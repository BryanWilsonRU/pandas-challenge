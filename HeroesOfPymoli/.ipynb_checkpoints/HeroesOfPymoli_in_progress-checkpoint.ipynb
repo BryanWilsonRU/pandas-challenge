{
 "cells": [
  {
   "cell_type": "markdown",
   "metadata": {},
   "source": [
    "### Note\n",
    "* Instructions have been included for each segment. You do not have to follow them exactly, but they are included to help you think through the steps."
   ]
  },
  {
   "cell_type": "code",
   "execution_count": 1,
   "metadata": {},
   "outputs": [
    {
     "data": {
      "text/html": [
       "<div>\n",
       "<style scoped>\n",
       "    .dataframe tbody tr th:only-of-type {\n",
       "        vertical-align: middle;\n",
       "    }\n",
       "\n",
       "    .dataframe tbody tr th {\n",
       "        vertical-align: top;\n",
       "    }\n",
       "\n",
       "    .dataframe thead th {\n",
       "        text-align: right;\n",
       "    }\n",
       "</style>\n",
       "<table border=\"1\" class=\"dataframe\">\n",
       "  <thead>\n",
       "    <tr style=\"text-align: right;\">\n",
       "      <th></th>\n",
       "      <th>Purchase ID</th>\n",
       "      <th>SN</th>\n",
       "      <th>Age</th>\n",
       "      <th>Gender</th>\n",
       "      <th>Item ID</th>\n",
       "      <th>Item Name</th>\n",
       "      <th>Price</th>\n",
       "    </tr>\n",
       "  </thead>\n",
       "  <tbody>\n",
       "    <tr>\n",
       "      <th>0</th>\n",
       "      <td>0</td>\n",
       "      <td>Lisim78</td>\n",
       "      <td>20</td>\n",
       "      <td>Male</td>\n",
       "      <td>108</td>\n",
       "      <td>Extraction, Quickblade Of Trembling Hands</td>\n",
       "      <td>3.53</td>\n",
       "    </tr>\n",
       "    <tr>\n",
       "      <th>1</th>\n",
       "      <td>1</td>\n",
       "      <td>Lisovynya38</td>\n",
       "      <td>40</td>\n",
       "      <td>Male</td>\n",
       "      <td>143</td>\n",
       "      <td>Frenzied Scimitar</td>\n",
       "      <td>1.56</td>\n",
       "    </tr>\n",
       "    <tr>\n",
       "      <th>2</th>\n",
       "      <td>2</td>\n",
       "      <td>Ithergue48</td>\n",
       "      <td>24</td>\n",
       "      <td>Male</td>\n",
       "      <td>92</td>\n",
       "      <td>Final Critic</td>\n",
       "      <td>4.88</td>\n",
       "    </tr>\n",
       "    <tr>\n",
       "      <th>3</th>\n",
       "      <td>3</td>\n",
       "      <td>Chamassasya86</td>\n",
       "      <td>24</td>\n",
       "      <td>Male</td>\n",
       "      <td>100</td>\n",
       "      <td>Blindscythe</td>\n",
       "      <td>3.27</td>\n",
       "    </tr>\n",
       "    <tr>\n",
       "      <th>4</th>\n",
       "      <td>4</td>\n",
       "      <td>Iskosia90</td>\n",
       "      <td>23</td>\n",
       "      <td>Male</td>\n",
       "      <td>131</td>\n",
       "      <td>Fury</td>\n",
       "      <td>1.44</td>\n",
       "    </tr>\n",
       "    <tr>\n",
       "      <th>...</th>\n",
       "      <td>...</td>\n",
       "      <td>...</td>\n",
       "      <td>...</td>\n",
       "      <td>...</td>\n",
       "      <td>...</td>\n",
       "      <td>...</td>\n",
       "      <td>...</td>\n",
       "    </tr>\n",
       "    <tr>\n",
       "      <th>775</th>\n",
       "      <td>775</td>\n",
       "      <td>Aethedru70</td>\n",
       "      <td>21</td>\n",
       "      <td>Female</td>\n",
       "      <td>60</td>\n",
       "      <td>Wolf</td>\n",
       "      <td>3.54</td>\n",
       "    </tr>\n",
       "    <tr>\n",
       "      <th>776</th>\n",
       "      <td>776</td>\n",
       "      <td>Iral74</td>\n",
       "      <td>21</td>\n",
       "      <td>Male</td>\n",
       "      <td>164</td>\n",
       "      <td>Exiled Doomblade</td>\n",
       "      <td>1.63</td>\n",
       "    </tr>\n",
       "    <tr>\n",
       "      <th>777</th>\n",
       "      <td>777</td>\n",
       "      <td>Yathecal72</td>\n",
       "      <td>20</td>\n",
       "      <td>Male</td>\n",
       "      <td>67</td>\n",
       "      <td>Celeste, Incarnation of the Corrupted</td>\n",
       "      <td>3.46</td>\n",
       "    </tr>\n",
       "    <tr>\n",
       "      <th>778</th>\n",
       "      <td>778</td>\n",
       "      <td>Sisur91</td>\n",
       "      <td>7</td>\n",
       "      <td>Male</td>\n",
       "      <td>101</td>\n",
       "      <td>Final Critic</td>\n",
       "      <td>4.19</td>\n",
       "    </tr>\n",
       "    <tr>\n",
       "      <th>779</th>\n",
       "      <td>779</td>\n",
       "      <td>Ennrian78</td>\n",
       "      <td>24</td>\n",
       "      <td>Male</td>\n",
       "      <td>50</td>\n",
       "      <td>Dawn</td>\n",
       "      <td>4.60</td>\n",
       "    </tr>\n",
       "  </tbody>\n",
       "</table>\n",
       "<p>780 rows × 7 columns</p>\n",
       "</div>"
      ],
      "text/plain": [
       "     Purchase ID             SN  Age  Gender  Item ID  \\\n",
       "0              0        Lisim78   20    Male      108   \n",
       "1              1    Lisovynya38   40    Male      143   \n",
       "2              2     Ithergue48   24    Male       92   \n",
       "3              3  Chamassasya86   24    Male      100   \n",
       "4              4      Iskosia90   23    Male      131   \n",
       "..           ...            ...  ...     ...      ...   \n",
       "775          775     Aethedru70   21  Female       60   \n",
       "776          776         Iral74   21    Male      164   \n",
       "777          777     Yathecal72   20    Male       67   \n",
       "778          778        Sisur91    7    Male      101   \n",
       "779          779      Ennrian78   24    Male       50   \n",
       "\n",
       "                                     Item Name  Price  \n",
       "0    Extraction, Quickblade Of Trembling Hands   3.53  \n",
       "1                            Frenzied Scimitar   1.56  \n",
       "2                                 Final Critic   4.88  \n",
       "3                                  Blindscythe   3.27  \n",
       "4                                         Fury   1.44  \n",
       "..                                         ...    ...  \n",
       "775                                       Wolf   3.54  \n",
       "776                           Exiled Doomblade   1.63  \n",
       "777      Celeste, Incarnation of the Corrupted   3.46  \n",
       "778                               Final Critic   4.19  \n",
       "779                                       Dawn   4.60  \n",
       "\n",
       "[780 rows x 7 columns]"
      ]
     },
     "execution_count": 1,
     "metadata": {},
     "output_type": "execute_result"
    }
   ],
   "source": [
    "# Dependencies and Setup\n",
    "import pandas as pd\n",
    "\n",
    "# File to Load (Remember to Change These)\n",
    "file_to_load = \"Resources/purchase_data.csv\"\n",
    "\n",
    "# Read Purchasing File and store into Pandas data frame\n",
    "purchase_data_df = pd.read_csv(file_to_load)\n",
    "purchase_data_df"
   ]
  },
  {
   "cell_type": "markdown",
   "metadata": {},
   "source": [
    "## Player Count"
   ]
  },
  {
   "cell_type": "markdown",
   "metadata": {},
   "source": [
    "* Display the total number of players\n"
   ]
  },
  {
   "cell_type": "code",
   "execution_count": 2,
   "metadata": {},
   "outputs": [
    {
     "name": "stdout",
     "output_type": "stream",
     "text": [
      "Total Number of Players\n",
      "576\n"
     ]
    }
   ],
   "source": [
    "#Find unique players (use SN [Screen Name])\n",
    "\n",
    "print(\"Total Number of Players\")\n",
    "totalPlayers=purchase_data_df.SN.nunique(dropna=False)\n",
    "print(totalPlayers)"
   ]
  },
  {
   "cell_type": "markdown",
   "metadata": {},
   "source": [
    "## Purchasing Analysis (Total)"
   ]
  },
  {
   "cell_type": "markdown",
   "metadata": {},
   "source": [
    "* Run basic calculations to obtain number of unique items, average price, etc.\n",
    "\n",
    "\n",
    "* Create a summary data frame to hold the results\n",
    "\n",
    "\n",
    "* Optional: give the displayed data cleaner formatting\n",
    "\n",
    "\n",
    "* Display the summary data frame\n"
   ]
  },
  {
   "cell_type": "code",
   "execution_count": 3,
   "metadata": {
    "scrolled": true
   },
   "outputs": [
    {
     "name": "stdout",
     "output_type": "stream",
     "text": [
      "Number of Unique Items\n",
      "183\n",
      "Average Price\n",
      "3.050987179487176\n",
      "Total Purchases\n",
      "780\n",
      "Total Revenue\n",
      "2379.77\n"
     ]
    }
   ],
   "source": [
    "# Count unique values in column 'Item ID' of the dataframe\n",
    "\n",
    "uniqueValues = purchase_data_df['Item ID'].nunique()\n",
    " \n",
    "print('Number of Unique Items')\n",
    "print(uniqueValues)\n",
    "\n",
    "#Find average price (mean of Price column)\n",
    "\n",
    "avg_price = purchase_data_df[\"Price\"].mean()\n",
    "print('Average Price')\n",
    "print(avg_price)\n",
    "\n",
    "#Find number of purchases (count of rows)\n",
    "\n",
    "print('Total Purchases')\n",
    "totalPurchases = purchase_data_df[\"Purchase ID\"].count()\n",
    "print(totalPurchases)\n",
    "\n",
    "#Find total revenue (sum for Price column)\n",
    "\n",
    "print('Total Revenue')\n",
    "totalRevenue = purchase_data_df[\"Price\"].sum()\n",
    "print(totalRevenue)"
   ]
  },
  {
   "cell_type": "markdown",
   "metadata": {},
   "source": [
    "## Gender Demographics"
   ]
  },
  {
   "cell_type": "markdown",
   "metadata": {},
   "source": [
    "* Percentage and Count of Male Players\n",
    "\n",
    "\n",
    "* Percentage and Count of Female Players\n",
    "\n",
    "\n",
    "* Percentage and Count of Other / Non-Disclosed\n",
    "\n",
    "\n"
   ]
  },
  {
   "cell_type": "code",
   "execution_count": 4,
   "metadata": {},
   "outputs": [
    {
     "name": "stdout",
     "output_type": "stream",
     "text": [
      "Males\n",
      "484\n",
      "84.02777777777779\n",
      "Females\n",
      "81\n",
      "14.0625\n",
      "Others/Non-Disclosed\n",
      "11\n",
      "1.9097222222222223\n"
     ]
    }
   ],
   "source": [
    "#Get counts for Male, Female, Other\n",
    "#Keep in mind that players may have made multiple purchases- make sure only to count unique individuals\n",
    "#Percentage~ Male/Female/Other divided by total then multiply by 100\n",
    "\n",
    "print('Males')\n",
    "males_df = purchase_data_df.loc[purchase_data_df[\"Gender\"] == \"Male\", :]\n",
    "uniqueMales = males_df['SN'].nunique()\n",
    "print(uniqueMales)\n",
    "\n",
    "pctMales=(uniqueMales/totalPlayers)*100\n",
    "print(pctMales)\n",
    "\n",
    "print('Females')\n",
    "females_df = purchase_data_df.loc[purchase_data_df[\"Gender\"] == \"Female\", :]\n",
    "uniqueFems = females_df['SN'].nunique()\n",
    "print(uniqueFems)\n",
    "\n",
    "pctFems=(uniqueFems/totalPlayers)*100\n",
    "print(pctFems)\n",
    "\n",
    "print('Others/Non-Disclosed')\n",
    "other_nondisclosed_df = purchase_data_df.loc[purchase_data_df[\"Gender\"] == \"Other / Non-Disclosed\", :]\n",
    "uniqueOthers = other_nondisclosed_df['SN'].nunique()\n",
    "print(uniqueOthers)\n",
    "\n",
    "pctOthers=(uniqueOthers/totalPlayers)*100\n",
    "print(pctOthers)"
   ]
  },
  {
   "cell_type": "markdown",
   "metadata": {},
   "source": [
    "\n",
    "## Purchasing Analysis (Gender)"
   ]
  },
  {
   "cell_type": "markdown",
   "metadata": {},
   "source": [
    "* Run basic calculations to obtain purchase count, avg. purchase price, avg. purchase total per person etc. by gender\n",
    "\n",
    "\n",
    "\n",
    "\n",
    "* Create a summary data frame to hold the results\n",
    "\n",
    "\n",
    "* Optional: give the displayed data cleaner formatting\n",
    "\n",
    "\n",
    "* Display the summary data frame"
   ]
  },
  {
   "cell_type": "code",
   "execution_count": 16,
   "metadata": {},
   "outputs": [
    {
     "name": "stdout",
     "output_type": "stream",
     "text": [
      "Purchase Count: Males\n",
      "652\n",
      "Purchase Count: Females\n",
      "113\n",
      "Purchase Count: Other / Non-Disclosed\n",
      "15\n",
      "Average Purchase Price: Males\n",
      "Price\n",
      "1.00    1.00\n",
      "1.01    1.01\n",
      "1.02    1.02\n",
      "1.03    1.03\n",
      "1.06    1.06\n",
      "        ... \n",
      "4.90    4.90\n",
      "4.91    4.91\n",
      "4.93    4.93\n",
      "4.94    4.94\n",
      "4.99    4.99\n",
      "Name: Price, Length: 144, dtype: float64\n",
      "Average Purchase Price: Females\n",
      "Price\n",
      "1.00    1.00\n",
      "1.01    1.01\n",
      "1.02    1.02\n",
      "1.09    1.09\n",
      "1.16    1.16\n",
      "        ... \n",
      "4.75    4.75\n",
      "4.76    4.76\n",
      "4.84    4.84\n",
      "4.88    4.88\n",
      "4.90    4.90\n",
      "Name: Price, Length: 79, dtype: float64\n",
      "Average Purchase Price: Other / Non-Disclosed\n",
      "Purchase ID\n",
      "9      3.58\n",
      "22     3.81\n",
      "82     4.40\n",
      "111    4.75\n",
      "228    3.39\n",
      "237    3.55\n",
      "242    3.94\n",
      "291    3.45\n",
      "350    2.22\n",
      "401    1.33\n",
      "484    3.94\n",
      "549    3.10\n",
      "629    2.18\n",
      "637    3.45\n",
      "747    3.10\n",
      "Name: Price, dtype: float64\n"
     ]
    }
   ],
   "source": [
    "#Retrieve purchase count: group genders by Purchase ID\n",
    "\n",
    "grouped_males_df = males_df.groupby(\"Purchase ID\")\n",
    "male_purchases = grouped_males_df[\"Purchase ID\"].sum()\n",
    "print('Purchase Count: Males')\n",
    "print(len(male_purchases))\n",
    "\n",
    "grouped_females_df = females_df.groupby(\"Purchase ID\")\n",
    "female_purchases = grouped_females_df[\"Purchase ID\"].sum()\n",
    "print('Purchase Count: Females')\n",
    "print(len(female_purchases))\n",
    "\n",
    "grouped_other_df = other_nondisclosed_df.groupby(\"Purchase ID\")\n",
    "other_purchases = grouped_other_df[\"Purchase ID\"].sum()\n",
    "print('Purchase Count: Other / Non-Disclosed')\n",
    "print(len(other_purchases))\n",
    "\n",
    "\n",
    "#NEED HELP WITH THIS SECTION\n",
    "\n",
    "#Retrieve avg. purchase price: group genders by Price\n",
    "grouped_males_avg_df = males_df.groupby(\"Price\")\n",
    "male_avg_purchase = grouped_males_avg_df[\"Price\"].mean()\n",
    "print('Average Purchase Price: Males')\n",
    "print(male_avg_purchase)\n",
    "\n",
    "grouped_females_avg_df = females_df.groupby(\"Price\")\n",
    "female_avg_purchase = grouped_females_avg_df[\"Price\"].mean()\n",
    "print('Average Purchase Price: Females')\n",
    "print(female_avg_purchase)\n",
    "\n",
    "grouped_other_avg_df = other_nondisclosed_df.groupby(\"Price\")\n",
    "other_avg_purchases = grouped_other_df[\"Price\"].mean()\n",
    "print('Average Purchase Price: Other / Non-Disclosed')\n",
    "print(other_avg_purchases)\n",
    "\n"
   ]
  },
  {
   "cell_type": "markdown",
   "metadata": {},
   "source": [
    "## Age Demographics"
   ]
  },
  {
   "cell_type": "markdown",
   "metadata": {},
   "source": [
    "* Establish bins for ages\n",
    "\n",
    "\n",
    "* Categorize the existing players using the age bins. Hint: use pd.cut()\n",
    "\n",
    "\n",
    "* Calculate the numbers and percentages by age group\n",
    "\n",
    "\n",
    "* Create a summary data frame to hold the results\n",
    "\n",
    "\n",
    "* Optional: round the percentage column to two decimal points\n",
    "\n",
    "\n",
    "* Display Age Demographics Table\n"
   ]
  },
  {
   "cell_type": "code",
   "execution_count": null,
   "metadata": {},
   "outputs": [],
   "source": []
  },
  {
   "cell_type": "markdown",
   "metadata": {},
   "source": [
    "## Purchasing Analysis (Age)"
   ]
  },
  {
   "cell_type": "markdown",
   "metadata": {},
   "source": [
    "* Bin the purchase_data data frame by age\n",
    "\n",
    "\n",
    "* Run basic calculations to obtain purchase count, avg. purchase price, avg. purchase total per person etc. in the table below\n",
    "\n",
    "\n",
    "* Create a summary data frame to hold the results\n",
    "\n",
    "\n",
    "* Optional: give the displayed data cleaner formatting\n",
    "\n",
    "\n",
    "* Display the summary data frame"
   ]
  },
  {
   "cell_type": "code",
   "execution_count": null,
   "metadata": {},
   "outputs": [],
   "source": []
  },
  {
   "cell_type": "markdown",
   "metadata": {},
   "source": [
    "## Top Spenders"
   ]
  },
  {
   "cell_type": "markdown",
   "metadata": {},
   "source": [
    "* Run basic calculations to obtain the results in the table below\n",
    "\n",
    "\n",
    "* Create a summary data frame to hold the results\n",
    "\n",
    "\n",
    "* Sort the total purchase value column in descending order\n",
    "\n",
    "\n",
    "* Optional: give the displayed data cleaner formatting\n",
    "\n",
    "\n",
    "* Display a preview of the summary data frame\n",
    "\n"
   ]
  },
  {
   "cell_type": "code",
   "execution_count": null,
   "metadata": {},
   "outputs": [],
   "source": []
  },
  {
   "cell_type": "markdown",
   "metadata": {},
   "source": [
    "## Most Popular Items"
   ]
  },
  {
   "cell_type": "markdown",
   "metadata": {},
   "source": [
    "* Retrieve the Item ID, Item Name, and Item Price columns\n",
    "\n",
    "\n",
    "* Group by Item ID and Item Name. Perform calculations to obtain purchase count, item price, and total purchase value\n",
    "\n",
    "\n",
    "* Create a summary data frame to hold the results\n",
    "\n",
    "\n",
    "* Sort the purchase count column in descending order\n",
    "\n",
    "\n",
    "* Optional: give the displayed data cleaner formatting\n",
    "\n",
    "\n",
    "* Display a preview of the summary data frame\n",
    "\n"
   ]
  },
  {
   "cell_type": "code",
   "execution_count": null,
   "metadata": {},
   "outputs": [],
   "source": []
  },
  {
   "cell_type": "markdown",
   "metadata": {},
   "source": [
    "## Most Profitable Items"
   ]
  },
  {
   "cell_type": "markdown",
   "metadata": {},
   "source": [
    "* Sort the above table by total purchase value in descending order\n",
    "\n",
    "\n",
    "* Optional: give the displayed data cleaner formatting\n",
    "\n",
    "\n",
    "* Display a preview of the data frame\n",
    "\n"
   ]
  },
  {
   "cell_type": "code",
   "execution_count": null,
   "metadata": {
    "scrolled": true
   },
   "outputs": [],
   "source": []
  }
 ],
 "metadata": {
  "anaconda-cloud": {},
  "kernel_info": {
   "name": "python3"
  },
  "kernelspec": {
   "display_name": "Python 3",
   "language": "python",
   "name": "python3"
  },
  "language_info": {
   "codemirror_mode": {
    "name": "ipython",
    "version": 3
   },
   "file_extension": ".py",
   "mimetype": "text/x-python",
   "name": "python",
   "nbconvert_exporter": "python",
   "pygments_lexer": "ipython3",
   "version": "3.6.10"
  },
  "latex_envs": {
   "LaTeX_envs_menu_present": true,
   "autoclose": false,
   "autocomplete": true,
   "bibliofile": "biblio.bib",
   "cite_by": "apalike",
   "current_citInitial": 1,
   "eqLabelWithNumbers": true,
   "eqNumInitial": 1,
   "hotkeys": {
    "equation": "Ctrl-E",
    "itemize": "Ctrl-I"
   },
   "labels_anchors": false,
   "latex_user_defs": false,
   "report_style_numbering": false,
   "user_envs_cfg": false
  },
  "nteract": {
   "version": "0.2.0"
  }
 },
 "nbformat": 4,
 "nbformat_minor": 2
}
